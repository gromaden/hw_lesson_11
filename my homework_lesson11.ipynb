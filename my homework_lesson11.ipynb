{
 "cells": [
  {
   "cell_type": "code",
   "execution_count": null,
   "metadata": {},
   "outputs": [],
   "source": [
    "# Create a program that allows you to search for images in gif format.\n",
    "# The program should allow you to enter a search word.\n",
    "# Using this word, search for GIFs using the Giphy API.\n",
    "# As a result, print the links to the GIFs."
   ]
  },
  {
   "cell_type": "code",
   "execution_count": 20,
   "metadata": {},
   "outputs": [
    {
     "name": "stdout",
     "output_type": "stream",
     "text": [
      "https://giphy.com/gifs/hallmarkecards-congratulations-congrats-watercolor-1O1UUSESiuGSi1VdT6\n",
      "https://giphy.com/gifs/fI90a1FdJwczDrlftd\n",
      "https://giphy.com/gifs/Canticosworld-happy-birthday-feliz-cumpleanos-canticos-caBAWYGzdraJc9Y6Zb\n",
      "https://giphy.com/gifs/good-job-congratulations-otter-ely3apij36BJhoZ234\n",
      "https://giphy.com/gifs/jJQC2puVZpTMO4vUs0\n",
      "https://giphy.com/gifs/share-discover-congratulations-3oz9ZE2Oo9zRC\n",
      "https://giphy.com/gifs/evite-congratulations-graduation-8A4Iizr2MpkDhk3Emp\n",
      "https://giphy.com/gifs/congratulations-congrats-3o6fJ1BM7R2EBRDnxK\n",
      "https://giphy.com/gifs/nbc-chicago-fire-chicagofire-onechicago-QJsP0cTAJhg7O47ub2\n",
      "https://giphy.com/gifs/titounis-congratulations-congrats-spanish-lBCeGn8WyMtD0z7VHA\n"
     ]
    }
   ],
   "source": [
    "import requests\n",
    "\n",
    "query = input(\"Enter your search query: \")\n",
    "url = \"http://api.giphy.com/v1/gifs/search\"\n",
    "params = {\"api_key\": \"8eXrSwQDMNlbBJxg9zeUI6CFERr1zxIV\", \"q\": query, \"limit\": 10, \"offset\": 0, \"rating\": \"G\", \"lang\": \"en\"}\n",
    "response = requests.get(url, params=params)\n",
    "gif_list = response.json()[\"data\"]\n",
    "for gif in gif_list:\n",
    "    if gif[\"type\"] == \"gif\":\n",
    "        print(gif[\"url\"])"
   ]
  }
 ],
 "metadata": {
  "kernelspec": {
   "display_name": "Python 3",
   "language": "python",
   "name": "python3"
  },
  "language_info": {
   "codemirror_mode": {
    "name": "ipython",
    "version": 3
   },
   "file_extension": ".py",
   "mimetype": "text/x-python",
   "name": "python",
   "nbconvert_exporter": "python",
   "pygments_lexer": "ipython3",
   "version": "3.10.0"
  },
  "orig_nbformat": 4
 },
 "nbformat": 4,
 "nbformat_minor": 2
}
